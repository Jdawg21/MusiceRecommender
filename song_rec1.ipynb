{
 "cells": [
  {
   "cell_type": "markdown",
   "metadata": {},
   "source": [
    "# Building a song recommender \n",
    "\n",
    "- content based filtering\n",
    "- based on artist/genre/other features #\n",
    "- sentiment analysis on the lyrics #\n",
    "- clustering "
   ]
  },
  {
   "cell_type": "code",
   "execution_count": 77,
   "metadata": {},
   "outputs": [],
   "source": [
    "import pandas as pd\n",
    "import numpy as np\n",
    "import matplotlib.pyplot as plt\n",
    "from sklearn.cluster import KMeans \n",
    "from sklearn.preprocessing import LabelEncoder \n",
    "from sklearn.feature_extraction.text import TfidfVectorizer \n",
    "from sklearn.metrics.pairwise import sigmoid_kernel\n",
    "from sklearn.datasets import make_blobs\n",
    "from sklearn.cluster import KMeans \n",
    "from sklearn.preprocessing import MinMaxScaler "
   ]
  },
  {
   "cell_type": "code",
   "execution_count": 2,
   "metadata": {},
   "outputs": [
    {
     "data": {
      "text/html": [
       "<div>\n",
       "<style scoped>\n",
       "    .dataframe tbody tr th:only-of-type {\n",
       "        vertical-align: middle;\n",
       "    }\n",
       "\n",
       "    .dataframe tbody tr th {\n",
       "        vertical-align: top;\n",
       "    }\n",
       "\n",
       "    .dataframe thead th {\n",
       "        text-align: right;\n",
       "    }\n",
       "</style>\n",
       "<table border=\"1\" class=\"dataframe\">\n",
       "  <thead>\n",
       "    <tr style=\"text-align: right;\">\n",
       "      <th></th>\n",
       "      <th>track_id</th>\n",
       "      <th>track_name</th>\n",
       "      <th>track_artist</th>\n",
       "      <th>lyrics</th>\n",
       "      <th>track_popularity</th>\n",
       "      <th>track_album_id</th>\n",
       "      <th>track_album_name</th>\n",
       "      <th>track_album_release_date</th>\n",
       "      <th>playlist_name</th>\n",
       "      <th>playlist_id</th>\n",
       "      <th>...</th>\n",
       "      <th>loudness</th>\n",
       "      <th>mode</th>\n",
       "      <th>speechiness</th>\n",
       "      <th>acousticness</th>\n",
       "      <th>instrumentalness</th>\n",
       "      <th>liveness</th>\n",
       "      <th>valence</th>\n",
       "      <th>tempo</th>\n",
       "      <th>duration_ms</th>\n",
       "      <th>language</th>\n",
       "    </tr>\n",
       "  </thead>\n",
       "  <tbody>\n",
       "    <tr>\n",
       "      <th>0</th>\n",
       "      <td>0017A6SJgTbfQVU2EtsPNo</td>\n",
       "      <td>Pangarap</td>\n",
       "      <td>Barbie's Cradle</td>\n",
       "      <td>Minsan pa Nang ako'y napalingon Hindi ko alam ...</td>\n",
       "      <td>41</td>\n",
       "      <td>1srJQ0njEQgd8w4XSqI4JQ</td>\n",
       "      <td>Trip</td>\n",
       "      <td>2001-01-01</td>\n",
       "      <td>Pinoy Classic Rock</td>\n",
       "      <td>37i9dQZF1DWYDQ8wBxd7xt</td>\n",
       "      <td>...</td>\n",
       "      <td>-10.068</td>\n",
       "      <td>1</td>\n",
       "      <td>0.0236</td>\n",
       "      <td>0.27900</td>\n",
       "      <td>0.01170</td>\n",
       "      <td>0.0887</td>\n",
       "      <td>0.566</td>\n",
       "      <td>97.091</td>\n",
       "      <td>235440</td>\n",
       "      <td>tl</td>\n",
       "    </tr>\n",
       "    <tr>\n",
       "      <th>1</th>\n",
       "      <td>004s3t0ONYlzxII9PLgU6z</td>\n",
       "      <td>I Feel Alive</td>\n",
       "      <td>Steady Rollin</td>\n",
       "      <td>The trees, are singing in the wind The sky blu...</td>\n",
       "      <td>28</td>\n",
       "      <td>3z04Lb9Dsilqw68SHt6jLB</td>\n",
       "      <td>Love &amp; Loss</td>\n",
       "      <td>2017-11-21</td>\n",
       "      <td>Hard Rock Workout</td>\n",
       "      <td>3YouF0u7waJnolytf9JCXf</td>\n",
       "      <td>...</td>\n",
       "      <td>-4.739</td>\n",
       "      <td>1</td>\n",
       "      <td>0.0442</td>\n",
       "      <td>0.01170</td>\n",
       "      <td>0.00994</td>\n",
       "      <td>0.3470</td>\n",
       "      <td>0.404</td>\n",
       "      <td>135.225</td>\n",
       "      <td>373512</td>\n",
       "      <td>en</td>\n",
       "    </tr>\n",
       "    <tr>\n",
       "      <th>2</th>\n",
       "      <td>00chLpzhgVjxs1zKC9UScL</td>\n",
       "      <td>Poison</td>\n",
       "      <td>Bell Biv DeVoe</td>\n",
       "      <td>NA Yeah, Spyderman and Freeze in full effect U...</td>\n",
       "      <td>0</td>\n",
       "      <td>6oZ6brjB8x3GoeSYdwJdPc</td>\n",
       "      <td>Gold</td>\n",
       "      <td>2005-01-01</td>\n",
       "      <td>Back in the day - R&amp;B, New Jack Swing, Swingbe...</td>\n",
       "      <td>3a9y4eeCJRmG9p4YKfqYIx</td>\n",
       "      <td>...</td>\n",
       "      <td>-7.504</td>\n",
       "      <td>0</td>\n",
       "      <td>0.2160</td>\n",
       "      <td>0.00432</td>\n",
       "      <td>0.00723</td>\n",
       "      <td>0.4890</td>\n",
       "      <td>0.650</td>\n",
       "      <td>111.904</td>\n",
       "      <td>262467</td>\n",
       "      <td>en</td>\n",
       "    </tr>\n",
       "    <tr>\n",
       "      <th>3</th>\n",
       "      <td>00cqd6ZsSkLZqGMlQCR0Zo</td>\n",
       "      <td>Baby It's Cold Outside (feat. Christina Aguilera)</td>\n",
       "      <td>CeeLo Green</td>\n",
       "      <td>I really can't stay Baby it's cold outside I'v...</td>\n",
       "      <td>41</td>\n",
       "      <td>3ssspRe42CXkhPxdc12xcp</td>\n",
       "      <td>CeeLo's Magic Moment</td>\n",
       "      <td>2012-10-29</td>\n",
       "      <td>Christmas Soul</td>\n",
       "      <td>6FZYc2BvF7tColxO8PBShV</td>\n",
       "      <td>...</td>\n",
       "      <td>-5.819</td>\n",
       "      <td>0</td>\n",
       "      <td>0.0341</td>\n",
       "      <td>0.68900</td>\n",
       "      <td>0.00000</td>\n",
       "      <td>0.0664</td>\n",
       "      <td>0.405</td>\n",
       "      <td>118.593</td>\n",
       "      <td>243067</td>\n",
       "      <td>en</td>\n",
       "    </tr>\n",
       "    <tr>\n",
       "      <th>4</th>\n",
       "      <td>00emjlCv9azBN0fzuuyLqy</td>\n",
       "      <td>Dumb Litty</td>\n",
       "      <td>KARD</td>\n",
       "      <td>Get up out of my business You don't keep me fr...</td>\n",
       "      <td>65</td>\n",
       "      <td>7h5X3xhh3peIK9Y0qI5hbK</td>\n",
       "      <td>KARD 2nd Digital Single ‘Dumb Litty’</td>\n",
       "      <td>2019-09-22</td>\n",
       "      <td>K-Party Dance Mix</td>\n",
       "      <td>37i9dQZF1DX4RDXswvP6Mj</td>\n",
       "      <td>...</td>\n",
       "      <td>-1.993</td>\n",
       "      <td>1</td>\n",
       "      <td>0.0409</td>\n",
       "      <td>0.03700</td>\n",
       "      <td>0.00000</td>\n",
       "      <td>0.1380</td>\n",
       "      <td>0.240</td>\n",
       "      <td>130.018</td>\n",
       "      <td>193160</td>\n",
       "      <td>en</td>\n",
       "    </tr>\n",
       "  </tbody>\n",
       "</table>\n",
       "<p>5 rows × 25 columns</p>\n",
       "</div>"
      ],
      "text/plain": [
       "                 track_id                                         track_name  \\\n",
       "0  0017A6SJgTbfQVU2EtsPNo                                           Pangarap   \n",
       "1  004s3t0ONYlzxII9PLgU6z                                       I Feel Alive   \n",
       "2  00chLpzhgVjxs1zKC9UScL                                             Poison   \n",
       "3  00cqd6ZsSkLZqGMlQCR0Zo  Baby It's Cold Outside (feat. Christina Aguilera)   \n",
       "4  00emjlCv9azBN0fzuuyLqy                                         Dumb Litty   \n",
       "\n",
       "      track_artist                                             lyrics  \\\n",
       "0  Barbie's Cradle  Minsan pa Nang ako'y napalingon Hindi ko alam ...   \n",
       "1    Steady Rollin  The trees, are singing in the wind The sky blu...   \n",
       "2   Bell Biv DeVoe  NA Yeah, Spyderman and Freeze in full effect U...   \n",
       "3      CeeLo Green  I really can't stay Baby it's cold outside I'v...   \n",
       "4             KARD  Get up out of my business You don't keep me fr...   \n",
       "\n",
       "   track_popularity          track_album_id  \\\n",
       "0                41  1srJQ0njEQgd8w4XSqI4JQ   \n",
       "1                28  3z04Lb9Dsilqw68SHt6jLB   \n",
       "2                 0  6oZ6brjB8x3GoeSYdwJdPc   \n",
       "3                41  3ssspRe42CXkhPxdc12xcp   \n",
       "4                65  7h5X3xhh3peIK9Y0qI5hbK   \n",
       "\n",
       "                       track_album_name track_album_release_date  \\\n",
       "0                                  Trip               2001-01-01   \n",
       "1                           Love & Loss               2017-11-21   \n",
       "2                                  Gold               2005-01-01   \n",
       "3                  CeeLo's Magic Moment               2012-10-29   \n",
       "4  KARD 2nd Digital Single ‘Dumb Litty’               2019-09-22   \n",
       "\n",
       "                                       playlist_name             playlist_id  \\\n",
       "0                                 Pinoy Classic Rock  37i9dQZF1DWYDQ8wBxd7xt   \n",
       "1                                  Hard Rock Workout  3YouF0u7waJnolytf9JCXf   \n",
       "2  Back in the day - R&B, New Jack Swing, Swingbe...  3a9y4eeCJRmG9p4YKfqYIx   \n",
       "3                                     Christmas Soul  6FZYc2BvF7tColxO8PBShV   \n",
       "4                                  K-Party Dance Mix  37i9dQZF1DX4RDXswvP6Mj   \n",
       "\n",
       "   ... loudness mode  speechiness  acousticness  instrumentalness  liveness  \\\n",
       "0  ...  -10.068    1       0.0236       0.27900           0.01170    0.0887   \n",
       "1  ...   -4.739    1       0.0442       0.01170           0.00994    0.3470   \n",
       "2  ...   -7.504    0       0.2160       0.00432           0.00723    0.4890   \n",
       "3  ...   -5.819    0       0.0341       0.68900           0.00000    0.0664   \n",
       "4  ...   -1.993    1       0.0409       0.03700           0.00000    0.1380   \n",
       "\n",
       "   valence    tempo  duration_ms  language  \n",
       "0    0.566   97.091       235440        tl  \n",
       "1    0.404  135.225       373512        en  \n",
       "2    0.650  111.904       262467        en  \n",
       "3    0.405  118.593       243067        en  \n",
       "4    0.240  130.018       193160        en  \n",
       "\n",
       "[5 rows x 25 columns]"
      ]
     },
     "execution_count": 2,
     "metadata": {},
     "output_type": "execute_result"
    }
   ],
   "source": [
    "df = pd.read_csv('spotify_songs.csv')\n",
    "df.head()"
   ]
  },
  {
   "cell_type": "code",
   "execution_count": 18,
   "metadata": {},
   "outputs": [
    {
     "data": {
      "text/plain": [
       "0"
      ]
     },
     "execution_count": 18,
     "metadata": {},
     "output_type": "execute_result"
    }
   ],
   "source": [
    "df.duplicated().sum() # no duplicate rows "
   ]
  },
  {
   "cell_type": "code",
   "execution_count": 3,
   "metadata": {},
   "outputs": [
    {
     "name": "stdout",
     "output_type": "stream",
     "text": [
      "<class 'pandas.core.frame.DataFrame'>\n",
      "RangeIndex: 18454 entries, 0 to 18453\n",
      "Data columns (total 25 columns):\n",
      " #   Column                    Non-Null Count  Dtype  \n",
      "---  ------                    --------------  -----  \n",
      " 0   track_id                  18454 non-null  object \n",
      " 1   track_name                18454 non-null  object \n",
      " 2   track_artist              18454 non-null  object \n",
      " 3   lyrics                    18194 non-null  object \n",
      " 4   track_popularity          18454 non-null  int64  \n",
      " 5   track_album_id            18454 non-null  object \n",
      " 6   track_album_name          18454 non-null  object \n",
      " 7   track_album_release_date  18454 non-null  object \n",
      " 8   playlist_name             18454 non-null  object \n",
      " 9   playlist_id               18454 non-null  object \n",
      " 10  playlist_genre            18454 non-null  object \n",
      " 11  playlist_subgenre         18454 non-null  object \n",
      " 12  danceability              18454 non-null  float64\n",
      " 13  energy                    18454 non-null  float64\n",
      " 14  key                       18454 non-null  int64  \n",
      " 15  loudness                  18454 non-null  float64\n",
      " 16  mode                      18454 non-null  int64  \n",
      " 17  speechiness               18454 non-null  float64\n",
      " 18  acousticness              18454 non-null  float64\n",
      " 19  instrumentalness          18454 non-null  float64\n",
      " 20  liveness                  18454 non-null  float64\n",
      " 21  valence                   18454 non-null  float64\n",
      " 22  tempo                     18454 non-null  float64\n",
      " 23  duration_ms               18454 non-null  int64  \n",
      " 24  language                  18194 non-null  object \n",
      "dtypes: float64(9), int64(4), object(12)\n",
      "memory usage: 3.5+ MB\n"
     ]
    }
   ],
   "source": [
    "df.info()"
   ]
  },
  {
   "cell_type": "code",
   "execution_count": 7,
   "metadata": {},
   "outputs": [
    {
     "name": "stdout",
     "output_type": "stream",
     "text": [
      "12 13\n",
      "['track_id', 'track_name', 'track_artist', 'lyrics', 'track_album_id', 'track_album_name', 'track_album_release_date', 'playlist_name', 'playlist_id', 'playlist_genre', 'playlist_subgenre', 'language']\n",
      "['track_popularity', 'danceability', 'energy', 'key', 'loudness', 'mode', 'speechiness', 'acousticness', 'instrumentalness', 'liveness', 'valence', 'tempo', 'duration_ms']\n"
     ]
    }
   ],
   "source": [
    "catcols = []\n",
    "numcols = []\n",
    "for column in df.columns:\n",
    "    if df[column].dtype == 'O':\n",
    "        catcols.append(column)\n",
    "    else:\n",
    "        numcols.append(column)\n",
    "print(len(catcols), len(numcols))\n",
    "print(catcols)\n",
    "print(numcols)"
   ]
  },
  {
   "cell_type": "code",
   "execution_count": 19,
   "metadata": {},
   "outputs": [
    {
     "name": "stdout",
     "output_type": "stream",
     "text": [
      "6031\n"
     ]
    }
   ],
   "source": [
    "print(len(df.track_artist.unique())) # 6031 artists "
   ]
  },
  {
   "cell_type": "code",
   "execution_count": 22,
   "metadata": {},
   "outputs": [
    {
     "data": {
      "text/plain": [
       "pop      3993\n",
       "rock     3521\n",
       "rap      3391\n",
       "r&b      3326\n",
       "latin    2178\n",
       "edm      2045\n",
       "Name: playlist_genre, dtype: int64"
      ]
     },
     "execution_count": 22,
     "metadata": {},
     "output_type": "execute_result"
    }
   ],
   "source": [
    "df.playlist_genre.value_counts()"
   ]
  },
  {
   "cell_type": "code",
   "execution_count": 23,
   "metadata": {},
   "outputs": [
    {
     "data": {
      "text/plain": [
       "indie poptimism              1288\n",
       "southern hip hop             1158\n",
       "neo soul                     1001\n",
       "electropop                    964\n",
       "urban contemporary            936\n",
       "hard rock                     926\n",
       "classic rock                  924\n",
       "post-teen pop                 891\n",
       "new jack swing                881\n",
       "gangster rap                  865\n",
       "dance pop                     850\n",
       "permanent wave                843\n",
       "album rock                    828\n",
       "hip hop                       689\n",
       "trap                          679\n",
       "latin hip hop                 673\n",
       "progressive electro house     652\n",
       "latin pop                     594\n",
       "pop edm                       575\n",
       "hip pop                       508\n",
       "electro house                 484\n",
       "tropical                      473\n",
       "reggaeton                     438\n",
       "big room                      334\n",
       "Name: playlist_subgenre, dtype: int64"
      ]
     },
     "execution_count": 23,
     "metadata": {},
     "output_type": "execute_result"
    }
   ],
   "source": [
    "df.playlist_subgenre.value_counts()"
   ]
  },
  {
   "cell_type": "code",
   "execution_count": 24,
   "metadata": {},
   "outputs": [
    {
     "data": {
      "text/plain": [
       "en    15405\n",
       "es     1705\n",
       "de      241\n",
       "pt      176\n",
       "it      133\n",
       "pl       76\n",
       "nl       72\n",
       "fr       65\n",
       "tl       63\n",
       "da       40\n",
       "id       34\n",
       "ko       29\n",
       "vi       24\n",
       "ro       16\n",
       "sw       16\n",
       "so       16\n",
       "cy       12\n",
       "no       10\n",
       "hi       10\n",
       "ja        8\n",
       "et        7\n",
       "af        5\n",
       "sv        5\n",
       "tr        5\n",
       "ru        4\n",
       "hr        3\n",
       "sq        3\n",
       "el        2\n",
       "ca        2\n",
       "ar        2\n",
       "cs        2\n",
       "fi        1\n",
       "hu        1\n",
       "sk        1\n",
       "Name: language, dtype: int64"
      ]
     },
     "execution_count": 24,
     "metadata": {},
     "output_type": "execute_result"
    }
   ],
   "source": [
    "df.language.value_counts()"
   ]
  },
  {
   "cell_type": "code",
   "execution_count": null,
   "metadata": {},
   "outputs": [],
   "source": [
    "# label encoding useful categorical variables "
   ]
  },
  {
   "cell_type": "markdown",
   "metadata": {},
   "source": [
    "## Numerical Columns "
   ]
  },
  {
   "cell_type": "code",
   "execution_count": 20,
   "metadata": {},
   "outputs": [
    {
     "data": {
      "text/plain": [
       "['track_popularity',\n",
       " 'danceability',\n",
       " 'energy',\n",
       " 'key',\n",
       " 'loudness',\n",
       " 'mode',\n",
       " 'speechiness',\n",
       " 'acousticness',\n",
       " 'instrumentalness',\n",
       " 'liveness',\n",
       " 'valence',\n",
       " 'tempo',\n",
       " 'duration_ms']"
      ]
     },
     "execution_count": 20,
     "metadata": {},
     "output_type": "execute_result"
    }
   ],
   "source": [
    "numcols"
   ]
  },
  {
   "cell_type": "markdown",
   "metadata": {},
   "source": [
    "# Content (lyrics) based filtering "
   ]
  },
  {
   "cell_type": "code",
   "execution_count": 49,
   "metadata": {},
   "outputs": [],
   "source": [
    "# lowercasing where needed \n",
    "for col in ['track_name', 'track_artist', 'lyrics', 'track_album_name', \n",
    "            'playlist_name', 'playlist_genre', 'playlist_subgenre']:\n",
    "    df[col] = df[col].str.lower()"
   ]
  },
  {
   "cell_type": "code",
   "execution_count": 46,
   "metadata": {},
   "outputs": [
    {
     "name": "stdout",
     "output_type": "stream",
     "text": [
      "0    minsan pa nang ako'y napalingon hindi ko alam ...\n",
      "Name: lyrics, dtype: object\n"
     ]
    }
   ],
   "source": [
    "print(df.head(1)['lyrics'])"
   ]
  },
  {
   "cell_type": "markdown",
   "metadata": {},
   "source": [
    "- A recommendation system is based on pairwise similarities such as the cosine similarities, hence we need vectorization in life \n",
    "\n",
    "- TfidfVectorizer() converts sentences into document matrices (NLP concept) -- will take deeper look"
   ]
  },
  {
   "cell_type": "code",
   "execution_count": 47,
   "metadata": {},
   "outputs": [],
   "source": [
    "tf = TfidfVectorizer(min_df = 3, max_features = None, strip_accents = 'unicode',\n",
    "                    analyzer = 'word', token_pattern = r'\\w{1,}',\n",
    "                    ngram_range = (1, 3),\n",
    "                    stop_words = 'english') # removes all unnecessary strings such as 'the'\n",
    "\n",
    "# filling NaNs with empty string\n",
    "df['lyrics'] = df.lyrics.fillna('')"
   ]
  },
  {
   "cell_type": "code",
   "execution_count": 51,
   "metadata": {},
   "outputs": [
    {
     "data": {
      "text/plain": [
       "<18454x275471 sparse matrix of type '<class 'numpy.float64'>'\n",
       "\twith 3133297 stored elements in Compressed Sparse Row format>"
      ]
     },
     "execution_count": 51,
     "metadata": {},
     "output_type": "execute_result"
    }
   ],
   "source": [
    "tf_matrix = tf.fit_transform(df.lyrics) # gives sparse matrix \n",
    "tf_matrix"
   ]
  },
  {
   "cell_type": "code",
   "execution_count": 52,
   "metadata": {},
   "outputs": [
    {
     "data": {
      "text/plain": [
       "(18454, 275471)"
      ]
     },
     "execution_count": 52,
     "metadata": {},
     "output_type": "execute_result"
    }
   ],
   "source": [
    "tf_matrix.shape # here features are combinations of words "
   ]
  },
  {
   "cell_type": "markdown",
   "metadata": {},
   "source": [
    "**now we detect similar records**"
   ]
  },
  {
   "cell_type": "code",
   "execution_count": 53,
   "metadata": {},
   "outputs": [
    {
     "data": {
      "text/plain": [
       "array([0.76159568, 0.76159416, 0.76159416, ..., 0.76159416, 0.76159416,\n",
       "       0.76159449])"
      ]
     },
     "execution_count": 53,
     "metadata": {},
     "output_type": "execute_result"
    }
   ],
   "source": [
    "sig = sigmoid_kernel(tf_matrix, tf_matrix)\n",
    "sig[0]"
   ]
  },
  {
   "cell_type": "code",
   "execution_count": 54,
   "metadata": {},
   "outputs": [
    {
     "data": {
      "text/plain": [
       "track_name\n",
       "pangarap                                                 0\n",
       "i feel alive                                             1\n",
       "poison                                                   2\n",
       "baby it's cold outside (feat. christina aguilera)        3\n",
       "dumb litty                                               4\n",
       "                                                     ...  \n",
       "rising like the sun - radio mix                      18449\n",
       "anaconda                                             18450\n",
       "bound                                                18451\n",
       "i'll do 4 u (re-recorded / remastered)               18452\n",
       "migraine                                             18453\n",
       "Length: 18454, dtype: int64"
      ]
     },
     "execution_count": 54,
     "metadata": {},
     "output_type": "execute_result"
    }
   ],
   "source": [
    "indices = pd.Series(df.index, index = df.track_name)  # this will be later used to get the index of the songs \n",
    "indices"
   ]
  },
  {
   "cell_type": "code",
   "execution_count": 55,
   "metadata": {},
   "outputs": [
    {
     "data": {
      "text/plain": [
       "0"
      ]
     },
     "execution_count": 55,
     "metadata": {},
     "output_type": "execute_result"
    }
   ],
   "source": [
    "indices['Pangarap'.lower()]"
   ]
  },
  {
   "cell_type": "code",
   "execution_count": 76,
   "metadata": {},
   "outputs": [
    {
     "data": {
      "text/plain": [
       "3460"
      ]
     },
     "execution_count": 76,
     "metadata": {},
     "output_type": "execute_result"
    }
   ],
   "source": [
    "df.track_name.duplicated().sum()"
   ]
  },
  {
   "cell_type": "code",
   "execution_count": 71,
   "metadata": {},
   "outputs": [],
   "source": [
    "# content based recommendations \n",
    "# can also sort according to popularity \n",
    "\n",
    "## FLAW: Songs may have same name\n",
    "\n",
    "def recommend(name, sig = sig):\n",
    "    name = name.lower()\n",
    "    ind = indices[name]\n",
    "    \n",
    "    # pairwise similarity scores \n",
    "    sig_sc = list(enumerate(sig[ind]))\n",
    "    \n",
    "    # sort the songs \n",
    "    sig_sc = sorted(sig_sc, key = lambda x: x[1], reverse = True)\n",
    "    \n",
    "    # Scores of the 5 most similar songs \n",
    "    sig_sc = sig_sc[1 : 6]\n",
    "    \n",
    "    # song indices \n",
    "    song_ind = [i[0] for i in sig_sc]\n",
    "    \n",
    "    # top 5 most similar songs based on lyrics \n",
    "    return df[['track_name', 'track_artist', 'track_popularity', 'track_album_name', 'playlist_genre', 'playlist_subgenre']].iloc[song_ind].sort_values(by = 'track_popularity', ascending = False)"
   ]
  },
  {
   "cell_type": "code",
   "execution_count": 72,
   "metadata": {},
   "outputs": [
    {
     "data": {
      "text/html": [
       "<div>\n",
       "<style scoped>\n",
       "    .dataframe tbody tr th:only-of-type {\n",
       "        vertical-align: middle;\n",
       "    }\n",
       "\n",
       "    .dataframe tbody tr th {\n",
       "        vertical-align: top;\n",
       "    }\n",
       "\n",
       "    .dataframe thead th {\n",
       "        text-align: right;\n",
       "    }\n",
       "</style>\n",
       "<table border=\"1\" class=\"dataframe\">\n",
       "  <thead>\n",
       "    <tr style=\"text-align: right;\">\n",
       "      <th></th>\n",
       "      <th>track_name</th>\n",
       "      <th>track_artist</th>\n",
       "      <th>track_popularity</th>\n",
       "      <th>track_album_name</th>\n",
       "      <th>playlist_genre</th>\n",
       "      <th>playlist_subgenre</th>\n",
       "    </tr>\n",
       "  </thead>\n",
       "  <tbody>\n",
       "    <tr>\n",
       "      <th>9381</th>\n",
       "      <td>love me like you do - from \"fifty shades of grey\"</td>\n",
       "      <td>ellie goulding</td>\n",
       "      <td>77</td>\n",
       "      <td>delirium (deluxe)</td>\n",
       "      <td>pop</td>\n",
       "      <td>electropop</td>\n",
       "    </tr>\n",
       "    <tr>\n",
       "      <th>593</th>\n",
       "      <td>love me like you do</td>\n",
       "      <td>ellie goulding</td>\n",
       "      <td>64</td>\n",
       "      <td>fifty shades freed (original motion picture so...</td>\n",
       "      <td>pop</td>\n",
       "      <td>post-teen pop</td>\n",
       "    </tr>\n",
       "    <tr>\n",
       "      <th>12897</th>\n",
       "      <td>love him like i do</td>\n",
       "      <td>deitrick haddon</td>\n",
       "      <td>46</td>\n",
       "      <td>revealed</td>\n",
       "      <td>r&amp;b</td>\n",
       "      <td>urban contemporary</td>\n",
       "    </tr>\n",
       "    <tr>\n",
       "      <th>16153</th>\n",
       "      <td>nobody</td>\n",
       "      <td>local sound</td>\n",
       "      <td>46</td>\n",
       "      <td>nobody</td>\n",
       "      <td>pop</td>\n",
       "      <td>dance pop</td>\n",
       "    </tr>\n",
       "    <tr>\n",
       "      <th>9857</th>\n",
       "      <td>obsessed</td>\n",
       "      <td>hogland</td>\n",
       "      <td>0</td>\n",
       "      <td>obsessed</td>\n",
       "      <td>edm</td>\n",
       "      <td>pop edm</td>\n",
       "    </tr>\n",
       "  </tbody>\n",
       "</table>\n",
       "</div>"
      ],
      "text/plain": [
       "                                              track_name     track_artist  \\\n",
       "9381   love me like you do - from \"fifty shades of grey\"   ellie goulding   \n",
       "593                                  love me like you do   ellie goulding   \n",
       "12897                                 love him like i do  deitrick haddon   \n",
       "16153                                             nobody      local sound   \n",
       "9857                                            obsessed          hogland   \n",
       "\n",
       "       track_popularity                                   track_album_name  \\\n",
       "9381                 77                                  delirium (deluxe)   \n",
       "593                  64  fifty shades freed (original motion picture so...   \n",
       "12897                46                                           revealed   \n",
       "16153                46                                             nobody   \n",
       "9857                  0                                           obsessed   \n",
       "\n",
       "      playlist_genre   playlist_subgenre  \n",
       "9381             pop          electropop  \n",
       "593              pop       post-teen pop  \n",
       "12897            r&b  urban contemporary  \n",
       "16153            pop           dance pop  \n",
       "9857             edm             pop edm  "
      ]
     },
     "execution_count": 72,
     "metadata": {},
     "output_type": "execute_result"
    }
   ],
   "source": [
    "# testing\n",
    "recommend('Love me Like You Do')"
   ]
  },
  {
   "cell_type": "code",
   "execution_count": 74,
   "metadata": {},
   "outputs": [
    {
     "data": {
      "text/html": [
       "<div>\n",
       "<style scoped>\n",
       "    .dataframe tbody tr th:only-of-type {\n",
       "        vertical-align: middle;\n",
       "    }\n",
       "\n",
       "    .dataframe tbody tr th {\n",
       "        vertical-align: top;\n",
       "    }\n",
       "\n",
       "    .dataframe thead th {\n",
       "        text-align: right;\n",
       "    }\n",
       "</style>\n",
       "<table border=\"1\" class=\"dataframe\">\n",
       "  <thead>\n",
       "    <tr style=\"text-align: right;\">\n",
       "      <th></th>\n",
       "      <th>track_name</th>\n",
       "      <th>track_artist</th>\n",
       "      <th>track_popularity</th>\n",
       "      <th>track_album_name</th>\n",
       "      <th>playlist_genre</th>\n",
       "      <th>playlist_subgenre</th>\n",
       "    </tr>\n",
       "  </thead>\n",
       "  <tbody>\n",
       "    <tr>\n",
       "      <th>2093</th>\n",
       "      <td>gettin' jiggy wit it</td>\n",
       "      <td>will smith</td>\n",
       "      <td>70</td>\n",
       "      <td>big willie style</td>\n",
       "      <td>pop</td>\n",
       "      <td>dance pop</td>\n",
       "    </tr>\n",
       "    <tr>\n",
       "      <th>16775</th>\n",
       "      <td>land of 1000 dances</td>\n",
       "      <td>wilson pickett</td>\n",
       "      <td>61</td>\n",
       "      <td>the exciting wilson pickett</td>\n",
       "      <td>r&amp;b</td>\n",
       "      <td>urban contemporary</td>\n",
       "    </tr>\n",
       "    <tr>\n",
       "      <th>5765</th>\n",
       "      <td>hey jude - remastered 2009</td>\n",
       "      <td>the beatles</td>\n",
       "      <td>39</td>\n",
       "      <td>past masters (vols. 1 &amp; 2 / remastered)</td>\n",
       "      <td>rock</td>\n",
       "      <td>classic rock</td>\n",
       "    </tr>\n",
       "    <tr>\n",
       "      <th>15558</th>\n",
       "      <td>hell on wheels</td>\n",
       "      <td>nick nolan</td>\n",
       "      <td>36</td>\n",
       "      <td>outlaw blues 2</td>\n",
       "      <td>rap</td>\n",
       "      <td>southern hip hop</td>\n",
       "    </tr>\n",
       "    <tr>\n",
       "      <th>3449</th>\n",
       "      <td>a minute to breathe</td>\n",
       "      <td>trent reznor and atticus ross</td>\n",
       "      <td>33</td>\n",
       "      <td>before the flood (music from the motion picture)</td>\n",
       "      <td>pop</td>\n",
       "      <td>indie poptimism</td>\n",
       "    </tr>\n",
       "  </tbody>\n",
       "</table>\n",
       "</div>"
      ],
      "text/plain": [
       "                       track_name                   track_artist  \\\n",
       "2093         gettin' jiggy wit it                     will smith   \n",
       "16775         land of 1000 dances                 wilson pickett   \n",
       "5765   hey jude - remastered 2009                    the beatles   \n",
       "15558              hell on wheels                     nick nolan   \n",
       "3449          a minute to breathe  trent reznor and atticus ross   \n",
       "\n",
       "       track_popularity                                  track_album_name  \\\n",
       "2093                 70                                  big willie style   \n",
       "16775                61                       the exciting wilson pickett   \n",
       "5765                 39           past masters (vols. 1 & 2 / remastered)   \n",
       "15558                36                                    outlaw blues 2   \n",
       "3449                 33  before the flood (music from the motion picture)   \n",
       "\n",
       "      playlist_genre   playlist_subgenre  \n",
       "2093             pop           dance pop  \n",
       "16775            r&b  urban contemporary  \n",
       "5765            rock        classic rock  \n",
       "15558            rap    southern hip hop  \n",
       "3449             pop     indie poptimism  "
      ]
     },
     "execution_count": 74,
     "metadata": {},
     "output_type": "execute_result"
    }
   ],
   "source": [
    "recommend('kiss you')"
   ]
  },
  {
   "cell_type": "code",
   "execution_count": 106,
   "metadata": {},
   "outputs": [
    {
     "data": {
      "text/plain": [
       "track_id                                               0Cy7wt6IlRfBPHXXjmZbcP\n",
       "track_name                                                love me like you do\n",
       "track_artist                                                   ellie goulding\n",
       "lyrics                      na you're the light, you're the night you're t...\n",
       "track_popularity                                                           64\n",
       "track_album_id                                         4w0N1CaZwQ5RPIuawqlYyy\n",
       "track_album_name            fifty shades freed (original motion picture so...\n",
       "track_album_release_date                                           2018-02-09\n",
       "playlist_name                                                   post teen pop\n",
       "playlist_id                                            6rjxP7GQKoqqgoakzxl3PY\n",
       "playlist_genre                                                            pop\n",
       "playlist_subgenre                                               post-teen pop\n",
       "danceability                                                            0.489\n",
       "energy                                                                  0.597\n",
       "key                                                                         5\n",
       "loudness                                                               -6.633\n",
       "mode                                                                        0\n",
       "speechiness                                                            0.0292\n",
       "acousticness                                                             0.27\n",
       "instrumentalness                                                            0\n",
       "liveness                                                                0.105\n",
       "valence                                                                 0.324\n",
       "tempo                                                                  95.012\n",
       "duration_ms                                                            253520\n",
       "language                                                                   en\n",
       "Name: 593, dtype: object"
      ]
     },
     "execution_count": 106,
     "metadata": {},
     "output_type": "execute_result"
    }
   ],
   "source": [
    "df.iloc[593]"
   ]
  },
  {
   "cell_type": "code",
   "execution_count": null,
   "metadata": {},
   "outputs": [],
   "source": []
  },
  {
   "cell_type": "code",
   "execution_count": null,
   "metadata": {},
   "outputs": [],
   "source": []
  },
  {
   "cell_type": "markdown",
   "metadata": {},
   "source": [
    "# Clustering \n",
    "ref 1: https://realpython.com/k-means-clustering-python/#:~:text=The%20k%2Dmeans%20clustering%20method,data%20objects%20in%20a%20dataset.&text=You'll%20walk%20through%20an,the%20data%20to%20evaluating%20results.\n",
    "\n",
    "ref 2: http://www.socr.umich.edu/people/dinov/courses/DSPA_notes/12_kMeans_Clustering.html#:~:text=Unsupervised%20Feature%20Selection%20for%20k,of%20important%20features%20are%20chosen.\n",
    "- based on what song the user selects, recommend more songs from the same cluster "
   ]
  },
  {
   "cell_type": "code",
   "execution_count": 78,
   "metadata": {},
   "outputs": [
    {
     "data": {
      "text/html": [
       "<div>\n",
       "<style scoped>\n",
       "    .dataframe tbody tr th:only-of-type {\n",
       "        vertical-align: middle;\n",
       "    }\n",
       "\n",
       "    .dataframe tbody tr th {\n",
       "        vertical-align: top;\n",
       "    }\n",
       "\n",
       "    .dataframe thead th {\n",
       "        text-align: right;\n",
       "    }\n",
       "</style>\n",
       "<table border=\"1\" class=\"dataframe\">\n",
       "  <thead>\n",
       "    <tr style=\"text-align: right;\">\n",
       "      <th></th>\n",
       "      <th>track_popularity</th>\n",
       "      <th>danceability</th>\n",
       "      <th>energy</th>\n",
       "      <th>key</th>\n",
       "      <th>loudness</th>\n",
       "      <th>mode</th>\n",
       "      <th>speechiness</th>\n",
       "      <th>acousticness</th>\n",
       "      <th>instrumentalness</th>\n",
       "      <th>liveness</th>\n",
       "      <th>valence</th>\n",
       "      <th>tempo</th>\n",
       "      <th>duration_ms</th>\n",
       "    </tr>\n",
       "  </thead>\n",
       "  <tbody>\n",
       "    <tr>\n",
       "      <th>0</th>\n",
       "      <td>41</td>\n",
       "      <td>0.682</td>\n",
       "      <td>0.401</td>\n",
       "      <td>2</td>\n",
       "      <td>-10.068</td>\n",
       "      <td>1</td>\n",
       "      <td>0.0236</td>\n",
       "      <td>0.27900</td>\n",
       "      <td>0.01170</td>\n",
       "      <td>0.0887</td>\n",
       "      <td>0.566</td>\n",
       "      <td>97.091</td>\n",
       "      <td>235440</td>\n",
       "    </tr>\n",
       "    <tr>\n",
       "      <th>1</th>\n",
       "      <td>28</td>\n",
       "      <td>0.303</td>\n",
       "      <td>0.880</td>\n",
       "      <td>9</td>\n",
       "      <td>-4.739</td>\n",
       "      <td>1</td>\n",
       "      <td>0.0442</td>\n",
       "      <td>0.01170</td>\n",
       "      <td>0.00994</td>\n",
       "      <td>0.3470</td>\n",
       "      <td>0.404</td>\n",
       "      <td>135.225</td>\n",
       "      <td>373512</td>\n",
       "    </tr>\n",
       "    <tr>\n",
       "      <th>2</th>\n",
       "      <td>0</td>\n",
       "      <td>0.845</td>\n",
       "      <td>0.652</td>\n",
       "      <td>6</td>\n",
       "      <td>-7.504</td>\n",
       "      <td>0</td>\n",
       "      <td>0.2160</td>\n",
       "      <td>0.00432</td>\n",
       "      <td>0.00723</td>\n",
       "      <td>0.4890</td>\n",
       "      <td>0.650</td>\n",
       "      <td>111.904</td>\n",
       "      <td>262467</td>\n",
       "    </tr>\n",
       "    <tr>\n",
       "      <th>3</th>\n",
       "      <td>41</td>\n",
       "      <td>0.425</td>\n",
       "      <td>0.378</td>\n",
       "      <td>5</td>\n",
       "      <td>-5.819</td>\n",
       "      <td>0</td>\n",
       "      <td>0.0341</td>\n",
       "      <td>0.68900</td>\n",
       "      <td>0.00000</td>\n",
       "      <td>0.0664</td>\n",
       "      <td>0.405</td>\n",
       "      <td>118.593</td>\n",
       "      <td>243067</td>\n",
       "    </tr>\n",
       "    <tr>\n",
       "      <th>4</th>\n",
       "      <td>65</td>\n",
       "      <td>0.760</td>\n",
       "      <td>0.887</td>\n",
       "      <td>9</td>\n",
       "      <td>-1.993</td>\n",
       "      <td>1</td>\n",
       "      <td>0.0409</td>\n",
       "      <td>0.03700</td>\n",
       "      <td>0.00000</td>\n",
       "      <td>0.1380</td>\n",
       "      <td>0.240</td>\n",
       "      <td>130.018</td>\n",
       "      <td>193160</td>\n",
       "    </tr>\n",
       "  </tbody>\n",
       "</table>\n",
       "</div>"
      ],
      "text/plain": [
       "   track_popularity  danceability  energy  key  loudness  mode  speechiness  \\\n",
       "0                41         0.682   0.401    2   -10.068     1       0.0236   \n",
       "1                28         0.303   0.880    9    -4.739     1       0.0442   \n",
       "2                 0         0.845   0.652    6    -7.504     0       0.2160   \n",
       "3                41         0.425   0.378    5    -5.819     0       0.0341   \n",
       "4                65         0.760   0.887    9    -1.993     1       0.0409   \n",
       "\n",
       "   acousticness  instrumentalness  liveness  valence    tempo  duration_ms  \n",
       "0       0.27900           0.01170    0.0887    0.566   97.091       235440  \n",
       "1       0.01170           0.00994    0.3470    0.404  135.225       373512  \n",
       "2       0.00432           0.00723    0.4890    0.650  111.904       262467  \n",
       "3       0.68900           0.00000    0.0664    0.405  118.593       243067  \n",
       "4       0.03700           0.00000    0.1380    0.240  130.018       193160  "
      ]
     },
     "execution_count": 78,
     "metadata": {},
     "output_type": "execute_result"
    }
   ],
   "source": [
    "features = df[numcols]\n",
    "features.head()"
   ]
  },
  {
   "cell_type": "code",
   "execution_count": 79,
   "metadata": {},
   "outputs": [],
   "source": [
    "# # feature scaling \n",
    "# sc = MinMaxScaler()\n",
    "# features[numcols] = sc.fit_transform(features)\n",
    "# scaled[0]"
   ]
  },
  {
   "cell_type": "code",
   "execution_count": 84,
   "metadata": {},
   "outputs": [
    {
     "name": "stderr",
     "output_type": "stream",
     "text": [
      "<ipython-input-84-34c3dd792279>:3: SettingWithCopyWarning: \n",
      "A value is trying to be set on a copy of a slice from a DataFrame.\n",
      "Try using .loc[row_indexer,col_indexer] = value instead\n",
      "\n",
      "See the caveats in the documentation: https://pandas.pydata.org/pandas-docs/stable/user_guide/indexing.html#returning-a-view-versus-a-copy\n",
      "  features[numcols] = sc.fit_transform(features[numcols])\n",
      "C:\\Users\\Sarah Mathew\\anaconda3\\lib\\site-packages\\pandas\\core\\indexing.py:1736: SettingWithCopyWarning: \n",
      "A value is trying to be set on a copy of a slice from a DataFrame.\n",
      "Try using .loc[row_indexer,col_indexer] = value instead\n",
      "\n",
      "See the caveats in the documentation: https://pandas.pydata.org/pandas-docs/stable/user_guide/indexing.html#returning-a-view-versus-a-copy\n",
      "  isetter(loc, value[:, i].tolist())\n"
     ]
    },
    {
     "data": {
      "text/html": [
       "<div>\n",
       "<style scoped>\n",
       "    .dataframe tbody tr th:only-of-type {\n",
       "        vertical-align: middle;\n",
       "    }\n",
       "\n",
       "    .dataframe tbody tr th {\n",
       "        vertical-align: top;\n",
       "    }\n",
       "\n",
       "    .dataframe thead th {\n",
       "        text-align: right;\n",
       "    }\n",
       "</style>\n",
       "<table border=\"1\" class=\"dataframe\">\n",
       "  <thead>\n",
       "    <tr style=\"text-align: right;\">\n",
       "      <th></th>\n",
       "      <th>track_popularity</th>\n",
       "      <th>danceability</th>\n",
       "      <th>energy</th>\n",
       "      <th>key</th>\n",
       "      <th>loudness</th>\n",
       "      <th>mode</th>\n",
       "      <th>speechiness</th>\n",
       "      <th>acousticness</th>\n",
       "      <th>instrumentalness</th>\n",
       "      <th>liveness</th>\n",
       "      <th>valence</th>\n",
       "      <th>tempo</th>\n",
       "      <th>duration_ms</th>\n",
       "    </tr>\n",
       "  </thead>\n",
       "  <tbody>\n",
       "    <tr>\n",
       "      <th>0</th>\n",
       "      <td>0.41</td>\n",
       "      <td>0.662692</td>\n",
       "      <td>0.390827</td>\n",
       "      <td>0.181818</td>\n",
       "      <td>0.681000</td>\n",
       "      <td>1.0</td>\n",
       "      <td>0.001340</td>\n",
       "      <td>0.281249</td>\n",
       "      <td>0.011854</td>\n",
       "      <td>0.080414</td>\n",
       "      <td>0.571136</td>\n",
       "      <td>0.338981</td>\n",
       "      <td>0.418893</td>\n",
       "    </tr>\n",
       "    <tr>\n",
       "      <th>1</th>\n",
       "      <td>0.28</td>\n",
       "      <td>0.232254</td>\n",
       "      <td>0.877962</td>\n",
       "      <td>0.818182</td>\n",
       "      <td>0.830868</td>\n",
       "      <td>1.0</td>\n",
       "      <td>0.024341</td>\n",
       "      <td>0.011793</td>\n",
       "      <td>0.010071</td>\n",
       "      <td>0.342212</td>\n",
       "      <td>0.407663</td>\n",
       "      <td>0.554509</td>\n",
       "      <td>0.703040</td>\n",
       "    </tr>\n",
       "    <tr>\n",
       "      <th>2</th>\n",
       "      <td>0.00</td>\n",
       "      <td>0.847814</td>\n",
       "      <td>0.646090</td>\n",
       "      <td>0.545455</td>\n",
       "      <td>0.753108</td>\n",
       "      <td>0.0</td>\n",
       "      <td>0.216168</td>\n",
       "      <td>0.004353</td>\n",
       "      <td>0.007325</td>\n",
       "      <td>0.486135</td>\n",
       "      <td>0.655900</td>\n",
       "      <td>0.422702</td>\n",
       "      <td>0.474513</td>\n",
       "    </tr>\n",
       "    <tr>\n",
       "      <th>3</th>\n",
       "      <td>0.41</td>\n",
       "      <td>0.370812</td>\n",
       "      <td>0.367436</td>\n",
       "      <td>0.454545</td>\n",
       "      <td>0.800495</td>\n",
       "      <td>0.0</td>\n",
       "      <td>0.013064</td>\n",
       "      <td>0.694556</td>\n",
       "      <td>0.000000</td>\n",
       "      <td>0.057812</td>\n",
       "      <td>0.408672</td>\n",
       "      <td>0.460508</td>\n",
       "      <td>0.434589</td>\n",
       "    </tr>\n",
       "    <tr>\n",
       "      <th>4</th>\n",
       "      <td>0.65</td>\n",
       "      <td>0.751278</td>\n",
       "      <td>0.885081</td>\n",
       "      <td>0.818182</td>\n",
       "      <td>0.908094</td>\n",
       "      <td>1.0</td>\n",
       "      <td>0.020657</td>\n",
       "      <td>0.037297</td>\n",
       "      <td>0.000000</td>\n",
       "      <td>0.130382</td>\n",
       "      <td>0.242172</td>\n",
       "      <td>0.525080</td>\n",
       "      <td>0.331882</td>\n",
       "    </tr>\n",
       "  </tbody>\n",
       "</table>\n",
       "</div>"
      ],
      "text/plain": [
       "   track_popularity  danceability    energy       key  loudness  mode  \\\n",
       "0              0.41      0.662692  0.390827  0.181818  0.681000   1.0   \n",
       "1              0.28      0.232254  0.877962  0.818182  0.830868   1.0   \n",
       "2              0.00      0.847814  0.646090  0.545455  0.753108   0.0   \n",
       "3              0.41      0.370812  0.367436  0.454545  0.800495   0.0   \n",
       "4              0.65      0.751278  0.885081  0.818182  0.908094   1.0   \n",
       "\n",
       "   speechiness  acousticness  instrumentalness  liveness   valence     tempo  \\\n",
       "0     0.001340      0.281249          0.011854  0.080414  0.571136  0.338981   \n",
       "1     0.024341      0.011793          0.010071  0.342212  0.407663  0.554509   \n",
       "2     0.216168      0.004353          0.007325  0.486135  0.655900  0.422702   \n",
       "3     0.013064      0.694556          0.000000  0.057812  0.408672  0.460508   \n",
       "4     0.020657      0.037297          0.000000  0.130382  0.242172  0.525080   \n",
       "\n",
       "   duration_ms  \n",
       "0     0.418893  \n",
       "1     0.703040  \n",
       "2     0.474513  \n",
       "3     0.434589  \n",
       "4     0.331882  "
      ]
     },
     "execution_count": 84,
     "metadata": {},
     "output_type": "execute_result"
    }
   ],
   "source": [
    "# feature scaling \n",
    "sc = MinMaxScaler()\n",
    "features[numcols] = sc.fit_transform(features[numcols])\n",
    "features.head()"
   ]
  },
  {
   "cell_type": "code",
   "execution_count": 85,
   "metadata": {},
   "outputs": [],
   "source": [
    "km = KMeans(n_clusters = 50)\n",
    "km1 = km.fit(features)"
   ]
  },
  {
   "cell_type": "code",
   "execution_count": 87,
   "metadata": {},
   "outputs": [
    {
     "data": {
      "text/plain": [
       "3249.2559490471144"
      ]
     },
     "execution_count": 87,
     "metadata": {},
     "output_type": "execute_result"
    }
   ],
   "source": [
    "km1.inertia_ # lowest error SSE"
   ]
  },
  {
   "cell_type": "code",
   "execution_count": 88,
   "metadata": {},
   "outputs": [
    {
     "data": {
      "text/plain": [
       "56"
      ]
     },
     "execution_count": 88,
     "metadata": {},
     "output_type": "execute_result"
    }
   ],
   "source": [
    "km1.n_iter_"
   ]
  },
  {
   "cell_type": "code",
   "execution_count": 89,
   "metadata": {},
   "outputs": [
    {
     "data": {
      "text/plain": [
       "array([14,  8,  9, ..., 16, 34,  4])"
      ]
     },
     "execution_count": 89,
     "metadata": {},
     "output_type": "execute_result"
    }
   ],
   "source": [
    "km1.labels_"
   ]
  },
  {
   "cell_type": "markdown",
   "metadata": {},
   "source": [
    "## Choosing appropriate number of clusters \n",
    "- Based on numerical columns\n",
    "- figure out how to include other important features such as genre anf language \n",
    "- one hot encoding too many features "
   ]
  },
  {
   "cell_type": "code",
   "execution_count": 91,
   "metadata": {},
   "outputs": [],
   "source": [
    "sse = []\n",
    "for k in range(1, 96):                          # 96 ~ root(n/2) conventional value for k\n",
    "    kmeans = KMeans(n_clusters = k)\n",
    "    kmeans.fit(features)\n",
    "    sse.append(kmeans.inertia_)"
   ]
  },
  {
   "cell_type": "code",
   "execution_count": 95,
   "metadata": {},
   "outputs": [
    {
     "data": {
      "text/plain": [
       "95"
      ]
     },
     "execution_count": 95,
     "metadata": {},
     "output_type": "execute_result"
    }
   ],
   "source": [
    "len(sse)"
   ]
  },
  {
   "cell_type": "code",
   "execution_count": 97,
   "metadata": {},
   "outputs": [
    {
     "data": {
      "text/plain": [
       "2756.897763854404"
      ]
     },
     "execution_count": 97,
     "metadata": {},
     "output_type": "execute_result"
    }
   ],
   "source": [
    "pd.Series(sse).min()"
   ]
  },
  {
   "cell_type": "code",
   "execution_count": 99,
   "metadata": {},
   "outputs": [
    {
     "name": "stdout",
     "output_type": "stream",
     "text": [
      "94\n"
     ]
    }
   ],
   "source": [
    "for i in range(len(sse)):\n",
    "    if sse[i] == pd.Series(sse).min():\n",
    "        print(i)\n",
    "        \n",
    "# ideal k: 94"
   ]
  },
  {
   "cell_type": "code",
   "execution_count": 105,
   "metadata": {},
   "outputs": [
    {
     "data": {
      "image/png": "[encoded data removed]",
      "text/plain": [
       "<Figure size 1440x504 with 1 Axes>"
      ]
     },
     "metadata": {
      "needs_background": "light"
     },
     "output_type": "display_data"
    }
   ],
   "source": [
    "plt.figure(figsize = (20, 7))\n",
    "plt.style.use(\"fivethirtyeight\")\n",
    "plt.plot(range(1, 96), sse)\n",
    "plt.xticks(range(1, 96), rotation = 90)\n",
    "plt.xlabel('Number of clusters')\n",
    "plt.ylabel('error')\n",
    "plt.show()"
   ]
  },
  {
   "cell_type": "code",
   "execution_count": null,
   "metadata": {},
   "outputs": [],
   "source": []
  },
  {
   "cell_type": "code",
   "execution_count": 120,
   "metadata": {},
   "outputs": [],
   "source": [
    "km = KMeans(n_clusters = 94)\n",
    "km2 = km.fit(features)"
   ]
  },
  {
   "cell_type": "code",
   "execution_count": 121,
   "metadata": {},
   "outputs": [
    {
     "data": {
      "text/plain": [
       "2763.6549196322244"
      ]
     },
     "execution_count": 121,
     "metadata": {},
     "output_type": "execute_result"
    }
   ],
   "source": [
    "km2.inertia_ # lowest error SSE"
   ]
  },
  {
   "cell_type": "code",
   "execution_count": 122,
   "metadata": {},
   "outputs": [
    {
     "data": {
      "text/plain": [
       "85"
      ]
     },
     "execution_count": 122,
     "metadata": {},
     "output_type": "execute_result"
    }
   ],
   "source": [
    "km2.n_iter_"
   ]
  },
  {
   "cell_type": "code",
   "execution_count": 123,
   "metadata": {},
   "outputs": [
    {
     "data": {
      "text/plain": [
       "array([14, 82, 90, ...,  8, 67, 91])"
      ]
     },
     "execution_count": 123,
     "metadata": {},
     "output_type": "execute_result"
    }
   ],
   "source": [
    "km2.labels_"
   ]
  },
  {
   "cell_type": "code",
   "execution_count": 124,
   "metadata": {},
   "outputs": [],
   "source": [
    "# clusters \n",
    "clusters = pd.DataFrame()\n",
    "clusters['data_index'] = df.index.values\n",
    "clusters['cluster'] = km2.labels_"
   ]
  },
  {
   "cell_type": "code",
   "execution_count": 125,
   "metadata": {},
   "outputs": [
    {
     "data": {
      "text/html": [
       "<div>\n",
       "<style scoped>\n",
       "    .dataframe tbody tr th:only-of-type {\n",
       "        vertical-align: middle;\n",
       "    }\n",
       "\n",
       "    .dataframe tbody tr th {\n",
       "        vertical-align: top;\n",
       "    }\n",
       "\n",
       "    .dataframe thead th {\n",
       "        text-align: right;\n",
       "    }\n",
       "</style>\n",
       "<table border=\"1\" class=\"dataframe\">\n",
       "  <thead>\n",
       "    <tr style=\"text-align: right;\">\n",
       "      <th></th>\n",
       "      <th>track_popularity</th>\n",
       "      <th>danceability</th>\n",
       "      <th>energy</th>\n",
       "      <th>key</th>\n",
       "      <th>loudness</th>\n",
       "      <th>mode</th>\n",
       "      <th>speechiness</th>\n",
       "      <th>acousticness</th>\n",
       "      <th>instrumentalness</th>\n",
       "      <th>liveness</th>\n",
       "      <th>valence</th>\n",
       "      <th>tempo</th>\n",
       "      <th>duration_ms</th>\n",
       "    </tr>\n",
       "  </thead>\n",
       "  <tbody>\n",
       "    <tr>\n",
       "      <th>593</th>\n",
       "      <td>0.64</td>\n",
       "      <td>0.443498</td>\n",
       "      <td>0.590156</td>\n",
       "      <td>0.454545</td>\n",
       "      <td>0.777603</td>\n",
       "      <td>0.0</td>\n",
       "      <td>0.007593</td>\n",
       "      <td>0.272176</td>\n",
       "      <td>0.0</td>\n",
       "      <td>0.096935</td>\n",
       "      <td>0.326936</td>\n",
       "      <td>0.327231</td>\n",
       "      <td>0.456101</td>\n",
       "    </tr>\n",
       "  </tbody>\n",
       "</table>\n",
       "</div>"
      ],
      "text/plain": [
       "     track_popularity  danceability    energy       key  loudness  mode  \\\n",
       "593              0.64      0.443498  0.590156  0.454545  0.777603   0.0   \n",
       "\n",
       "     speechiness  acousticness  instrumentalness  liveness   valence  \\\n",
       "593     0.007593      0.272176               0.0  0.096935  0.326936   \n",
       "\n",
       "        tempo  duration_ms  \n",
       "593  0.327231     0.456101  "
      ]
     },
     "execution_count": 125,
     "metadata": {},
     "output_type": "execute_result"
    }
   ],
   "source": [
    "x = pd.DataFrame(features.iloc[5765]).transpose() # love me like you do\n",
    "x"
   ]
  },
  {
   "cell_type": "code",
   "execution_count": 127,
   "metadata": {},
   "outputs": [
    {
     "data": {
      "text/plain": [
       "array([49])"
      ]
     },
     "execution_count": 127,
     "metadata": {},
     "output_type": "execute_result"
    }
   ],
   "source": [
    "km2.predict(x)"
   ]
  },
  {
   "cell_type": "code",
   "execution_count": 140,
   "metadata": {},
   "outputs": [],
   "source": [
    "df.iloc[clusters[clusters.cluster == 49].index].to_csv('ll.csv')"
   ]
  }
 ],
 "metadata": {
  "kernelspec": {
   "display_name": "Python 3",
   "language": "python",
   "name": "python3"
  },
  "language_info": {
   "codemirror_mode": {
    "name": "ipython",
    "version": 3
   },
   "file_extension": ".py",
   "mimetype": "text/x-python",
   "name": "python",
   "nbconvert_exporter": "python",
   "pygments_lexer": "ipython3",
   "version": "3.8.5"
  }
 },
 "nbformat": 4,
 "nbformat_minor": 4
}
